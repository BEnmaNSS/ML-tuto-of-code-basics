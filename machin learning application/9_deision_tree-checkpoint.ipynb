{
 "cells": [
  {
   "cell_type": "code",
   "execution_count": 1,
   "id": "a16d5d90",
   "metadata": {},
   "outputs": [],
   "source": [
    "import pandas as pd \n",
    "import numpy as np"
   ]
  },
  {
   "cell_type": "code",
   "execution_count": 4,
   "id": "7c3ab474",
   "metadata": {
    "scrolled": true
   },
   "outputs": [
    {
     "data": {
      "text/html": [
       "<div>\n",
       "<style scoped>\n",
       "    .dataframe tbody tr th:only-of-type {\n",
       "        vertical-align: middle;\n",
       "    }\n",
       "\n",
       "    .dataframe tbody tr th {\n",
       "        vertical-align: top;\n",
       "    }\n",
       "\n",
       "    .dataframe thead th {\n",
       "        text-align: right;\n",
       "    }\n",
       "</style>\n",
       "<table border=\"1\" class=\"dataframe\">\n",
       "  <thead>\n",
       "    <tr style=\"text-align: right;\">\n",
       "      <th></th>\n",
       "      <th>company</th>\n",
       "      <th>job</th>\n",
       "      <th>degree</th>\n",
       "      <th>salary_more_then_100k</th>\n",
       "    </tr>\n",
       "  </thead>\n",
       "  <tbody>\n",
       "    <tr>\n",
       "      <th>0</th>\n",
       "      <td>google</td>\n",
       "      <td>sales executive</td>\n",
       "      <td>bachelors</td>\n",
       "      <td>0</td>\n",
       "    </tr>\n",
       "    <tr>\n",
       "      <th>1</th>\n",
       "      <td>google</td>\n",
       "      <td>sales executive</td>\n",
       "      <td>masters</td>\n",
       "      <td>0</td>\n",
       "    </tr>\n",
       "    <tr>\n",
       "      <th>2</th>\n",
       "      <td>google</td>\n",
       "      <td>business manager</td>\n",
       "      <td>bachelors</td>\n",
       "      <td>1</td>\n",
       "    </tr>\n",
       "    <tr>\n",
       "      <th>3</th>\n",
       "      <td>google</td>\n",
       "      <td>business manager</td>\n",
       "      <td>masters</td>\n",
       "      <td>1</td>\n",
       "    </tr>\n",
       "    <tr>\n",
       "      <th>4</th>\n",
       "      <td>google</td>\n",
       "      <td>computer programmer</td>\n",
       "      <td>bachelors</td>\n",
       "      <td>0</td>\n",
       "    </tr>\n",
       "    <tr>\n",
       "      <th>5</th>\n",
       "      <td>google</td>\n",
       "      <td>computer programmer</td>\n",
       "      <td>masters</td>\n",
       "      <td>1</td>\n",
       "    </tr>\n",
       "    <tr>\n",
       "      <th>6</th>\n",
       "      <td>abc pharma</td>\n",
       "      <td>sales executive</td>\n",
       "      <td>masters</td>\n",
       "      <td>0</td>\n",
       "    </tr>\n",
       "    <tr>\n",
       "      <th>7</th>\n",
       "      <td>abc pharma</td>\n",
       "      <td>computer programmer</td>\n",
       "      <td>bachelors</td>\n",
       "      <td>0</td>\n",
       "    </tr>\n",
       "    <tr>\n",
       "      <th>8</th>\n",
       "      <td>abc pharma</td>\n",
       "      <td>business manager</td>\n",
       "      <td>bachelors</td>\n",
       "      <td>0</td>\n",
       "    </tr>\n",
       "    <tr>\n",
       "      <th>9</th>\n",
       "      <td>abc pharma</td>\n",
       "      <td>business manager</td>\n",
       "      <td>masters</td>\n",
       "      <td>1</td>\n",
       "    </tr>\n",
       "  </tbody>\n",
       "</table>\n",
       "</div>"
      ],
      "text/plain": [
       "      company                  job     degree  salary_more_then_100k\n",
       "0      google      sales executive  bachelors                      0\n",
       "1      google      sales executive    masters                      0\n",
       "2      google     business manager  bachelors                      1\n",
       "3      google     business manager    masters                      1\n",
       "4      google  computer programmer  bachelors                      0\n",
       "5      google  computer programmer    masters                      1\n",
       "6  abc pharma      sales executive    masters                      0\n",
       "7  abc pharma  computer programmer  bachelors                      0\n",
       "8  abc pharma     business manager  bachelors                      0\n",
       "9  abc pharma     business manager    masters                      1"
      ]
     },
     "execution_count": 4,
     "metadata": {},
     "output_type": "execute_result"
    }
   ],
   "source": [
    "df = pd.read_csv('C:\\\\Users\\\\youne\\\\Downloads\\\\salaries.csv')\n",
    "df.head(10)"
   ]
  },
  {
   "cell_type": "code",
   "execution_count": 6,
   "id": "76bdc637",
   "metadata": {},
   "outputs": [],
   "source": [
    "imputes = df.drop('salary_more_then_100k',axis = 'columns')\n",
    "target  = df['salary_more_then_100k']"
   ]
  },
  {
   "cell_type": "code",
   "execution_count": 16,
   "id": "c139edce",
   "metadata": {},
   "outputs": [
    {
     "data": {
      "text/plain": [
       "array([[0., 0., 1., 0., 0., 1., 1., 0.],\n",
       "       [0., 0., 1., 0., 0., 1., 0., 1.],\n",
       "       [0., 0., 1., 1., 0., 0., 1., 0.],\n",
       "       [0., 0., 1., 1., 0., 0., 0., 1.],\n",
       "       [0., 0., 1., 0., 1., 0., 1., 0.],\n",
       "       [0., 0., 1., 0., 1., 0., 0., 1.],\n",
       "       [1., 0., 0., 0., 0., 1., 0., 1.],\n",
       "       [1., 0., 0., 0., 1., 0., 1., 0.],\n",
       "       [1., 0., 0., 1., 0., 0., 1., 0.],\n",
       "       [1., 0., 0., 1., 0., 0., 0., 1.],\n",
       "       [0., 1., 0., 0., 0., 1., 1., 0.],\n",
       "       [0., 1., 0., 0., 0., 1., 0., 1.],\n",
       "       [0., 1., 0., 1., 0., 0., 1., 0.],\n",
       "       [0., 1., 0., 1., 0., 0., 0., 1.],\n",
       "       [0., 1., 0., 0., 1., 0., 1., 0.],\n",
       "       [0., 1., 0., 0., 1., 0., 0., 1.]])"
      ]
     },
     "execution_count": 16,
     "metadata": {},
     "output_type": "execute_result"
    }
   ],
   "source": [
    "from sklearn.preprocessing import OneHotEncoder\n",
    "ohe = OneHotEncoder()\n",
    "encoded_features = ohe.fit_transform(df[['company', 'job', 'degree']]).toarray()\n",
    "encoded_features"
   ]
  },
  {
   "cell_type": "code",
   "execution_count": 17,
   "id": "79fefb71",
   "metadata": {
    "scrolled": true
   },
   "outputs": [
    {
     "data": {
      "text/html": [
       "<style>#sk-container-id-1 {color: black;}#sk-container-id-1 pre{padding: 0;}#sk-container-id-1 div.sk-toggleable {background-color: white;}#sk-container-id-1 label.sk-toggleable__label {cursor: pointer;display: block;width: 100%;margin-bottom: 0;padding: 0.3em;box-sizing: border-box;text-align: center;}#sk-container-id-1 label.sk-toggleable__label-arrow:before {content: \"▸\";float: left;margin-right: 0.25em;color: #696969;}#sk-container-id-1 label.sk-toggleable__label-arrow:hover:before {color: black;}#sk-container-id-1 div.sk-estimator:hover label.sk-toggleable__label-arrow:before {color: black;}#sk-container-id-1 div.sk-toggleable__content {max-height: 0;max-width: 0;overflow: hidden;text-align: left;background-color: #f0f8ff;}#sk-container-id-1 div.sk-toggleable__content pre {margin: 0.2em;color: black;border-radius: 0.25em;background-color: #f0f8ff;}#sk-container-id-1 input.sk-toggleable__control:checked~div.sk-toggleable__content {max-height: 200px;max-width: 100%;overflow: auto;}#sk-container-id-1 input.sk-toggleable__control:checked~label.sk-toggleable__label-arrow:before {content: \"▾\";}#sk-container-id-1 div.sk-estimator input.sk-toggleable__control:checked~label.sk-toggleable__label {background-color: #d4ebff;}#sk-container-id-1 div.sk-label input.sk-toggleable__control:checked~label.sk-toggleable__label {background-color: #d4ebff;}#sk-container-id-1 input.sk-hidden--visually {border: 0;clip: rect(1px 1px 1px 1px);clip: rect(1px, 1px, 1px, 1px);height: 1px;margin: -1px;overflow: hidden;padding: 0;position: absolute;width: 1px;}#sk-container-id-1 div.sk-estimator {font-family: monospace;background-color: #f0f8ff;border: 1px dotted black;border-radius: 0.25em;box-sizing: border-box;margin-bottom: 0.5em;}#sk-container-id-1 div.sk-estimator:hover {background-color: #d4ebff;}#sk-container-id-1 div.sk-parallel-item::after {content: \"\";width: 100%;border-bottom: 1px solid gray;flex-grow: 1;}#sk-container-id-1 div.sk-label:hover label.sk-toggleable__label {background-color: #d4ebff;}#sk-container-id-1 div.sk-serial::before {content: \"\";position: absolute;border-left: 1px solid gray;box-sizing: border-box;top: 0;bottom: 0;left: 50%;z-index: 0;}#sk-container-id-1 div.sk-serial {display: flex;flex-direction: column;align-items: center;background-color: white;padding-right: 0.2em;padding-left: 0.2em;position: relative;}#sk-container-id-1 div.sk-item {position: relative;z-index: 1;}#sk-container-id-1 div.sk-parallel {display: flex;align-items: stretch;justify-content: center;background-color: white;position: relative;}#sk-container-id-1 div.sk-item::before, #sk-container-id-1 div.sk-parallel-item::before {content: \"\";position: absolute;border-left: 1px solid gray;box-sizing: border-box;top: 0;bottom: 0;left: 50%;z-index: -1;}#sk-container-id-1 div.sk-parallel-item {display: flex;flex-direction: column;z-index: 1;position: relative;background-color: white;}#sk-container-id-1 div.sk-parallel-item:first-child::after {align-self: flex-end;width: 50%;}#sk-container-id-1 div.sk-parallel-item:last-child::after {align-self: flex-start;width: 50%;}#sk-container-id-1 div.sk-parallel-item:only-child::after {width: 0;}#sk-container-id-1 div.sk-dashed-wrapped {border: 1px dashed gray;margin: 0 0.4em 0.5em 0.4em;box-sizing: border-box;padding-bottom: 0.4em;background-color: white;}#sk-container-id-1 div.sk-label label {font-family: monospace;font-weight: bold;display: inline-block;line-height: 1.2em;}#sk-container-id-1 div.sk-label-container {text-align: center;}#sk-container-id-1 div.sk-container {/* jupyter's `normalize.less` sets `[hidden] { display: none; }` but bootstrap.min.css set `[hidden] { display: none !important; }` so we also need the `!important` here to be able to override the default hidden behavior on the sphinx rendered scikit-learn.org. See: https://github.com/scikit-learn/scikit-learn/issues/21755 */display: inline-block !important;position: relative;}#sk-container-id-1 div.sk-text-repr-fallback {display: none;}</style><div id=\"sk-container-id-1\" class=\"sk-top-container\"><div class=\"sk-text-repr-fallback\"><pre>DecisionTreeClassifier()</pre><b>In a Jupyter environment, please rerun this cell to show the HTML representation or trust the notebook. <br />On GitHub, the HTML representation is unable to render, please try loading this page with nbviewer.org.</b></div><div class=\"sk-container\" hidden><div class=\"sk-item\"><div class=\"sk-estimator sk-toggleable\"><input class=\"sk-toggleable__control sk-hidden--visually\" id=\"sk-estimator-id-1\" type=\"checkbox\" checked><label for=\"sk-estimator-id-1\" class=\"sk-toggleable__label sk-toggleable__label-arrow\">DecisionTreeClassifier</label><div class=\"sk-toggleable__content\"><pre>DecisionTreeClassifier()</pre></div></div></div></div></div>"
      ],
      "text/plain": [
       "DecisionTreeClassifier()"
      ]
     },
     "execution_count": 17,
     "metadata": {},
     "output_type": "execute_result"
    }
   ],
   "source": [
    "from sklearn.tree import DecisionTreeClassifier\n",
    "dt = DecisionTreeClassifier()\n",
    "dt.fit(encoded_features,target)\n"
   ]
  },
  {
   "cell_type": "code",
   "execution_count": 19,
   "id": "6350f7fd",
   "metadata": {},
   "outputs": [
    {
     "data": {
      "text/plain": [
       "array([1], dtype=int64)"
      ]
     },
     "execution_count": 19,
     "metadata": {},
     "output_type": "execute_result"
    }
   ],
   "source": [
    "dt.predict([[0., 0., 1., 1., 0., 0., 0., 1.]])\n"
   ]
  },
  {
   "cell_type": "code",
   "execution_count": 21,
   "id": "91d4de95",
   "metadata": {
    "scrolled": true
   },
   "outputs": [
    {
     "name": "stdout",
     "output_type": "stream",
     "text": [
      "|--- feature_1 <= 0.50\n",
      "|   |--- feature_3 <= 0.50\n",
      "|   |   |--- feature_7 <= 0.50\n",
      "|   |   |   |--- class: 0\n",
      "|   |   |--- feature_7 >  0.50\n",
      "|   |   |   |--- feature_4 <= 0.50\n",
      "|   |   |   |   |--- class: 0\n",
      "|   |   |   |--- feature_4 >  0.50\n",
      "|   |   |   |   |--- class: 1\n",
      "|   |--- feature_3 >  0.50\n",
      "|   |   |--- feature_6 <= 0.50\n",
      "|   |   |   |--- class: 1\n",
      "|   |   |--- feature_6 >  0.50\n",
      "|   |   |   |--- feature_0 <= 0.50\n",
      "|   |   |   |   |--- class: 1\n",
      "|   |   |   |--- feature_0 >  0.50\n",
      "|   |   |   |   |--- class: 0\n",
      "|--- feature_1 >  0.50\n",
      "|   |--- class: 1\n",
      "\n"
     ]
    }
   ],
   "source": [
    "from sklearn import tree\n",
    "text_representation = tree.export_text(dt)\n",
    "print(text_representation)"
   ]
  },
  {
   "cell_type": "code",
   "execution_count": 53,
   "id": "76cf3e6b",
   "metadata": {},
   "outputs": [
    {
     "data": {
      "text/plain": [
       "[Text(0.5555555555555556, 0.9, 'x[1] <= 0.5\\ngini = 0.469\\nsamples = 16\\nvalue = [6, 10]'),\n",
       " Text(0.4444444444444444, 0.7, 'x[3] <= 0.5\\ngini = 0.48\\nsamples = 10\\nvalue = [6, 4]'),\n",
       " Text(0.2222222222222222, 0.5, 'x[7] <= 0.5\\ngini = 0.278\\nsamples = 6\\nvalue = [5, 1]'),\n",
       " Text(0.1111111111111111, 0.3, 'gini = 0.0\\nsamples = 3\\nvalue = [3, 0]'),\n",
       " Text(0.3333333333333333, 0.3, 'x[4] <= 0.5\\ngini = 0.444\\nsamples = 3\\nvalue = [2, 1]'),\n",
       " Text(0.2222222222222222, 0.1, 'gini = 0.0\\nsamples = 2\\nvalue = [2, 0]'),\n",
       " Text(0.4444444444444444, 0.1, 'gini = 0.0\\nsamples = 1\\nvalue = [0, 1]'),\n",
       " Text(0.6666666666666666, 0.5, 'x[6] <= 0.5\\ngini = 0.375\\nsamples = 4\\nvalue = [1, 3]'),\n",
       " Text(0.5555555555555556, 0.3, 'gini = 0.0\\nsamples = 2\\nvalue = [0, 2]'),\n",
       " Text(0.7777777777777778, 0.3, 'x[0] <= 0.5\\ngini = 0.5\\nsamples = 2\\nvalue = [1, 1]'),\n",
       " Text(0.6666666666666666, 0.1, 'gini = 0.0\\nsamples = 1\\nvalue = [0, 1]'),\n",
       " Text(0.8888888888888888, 0.1, 'gini = 0.0\\nsamples = 1\\nvalue = [1, 0]'),\n",
       " Text(0.6666666666666666, 0.7, 'gini = 0.0\\nsamples = 6\\nvalue = [0, 6]')]"
      ]
     },
     "execution_count": 53,
     "metadata": {},
     "output_type": "execute_result"
    },
    {
     "data": {
      "image/png": "[encoded data removed]",
      "text/plain": [
       "<Figure size 640x480 with 1 Axes>"
      ]
     },
     "metadata": {},
     "output_type": "display_data"
    }
   ],
   "source": [
    "from sklearn import tree\n",
    "tree.plot_tree(dt)\n"
   ]
  },
  {
   "cell_type": "code",
   "execution_count": 35,
   "id": "4d8df395",
   "metadata": {
    "collapsed": true
   },
   "outputs": [
    {
     "name": "stdout",
     "output_type": "stream",
     "text": [
      "Requirement already satisfied: dtreeviz in c:\\users\\youne\\anaconda3\\lib\\site-packages (2.2.2)\n",
      "Requirement already satisfied: graphviz>=0.9 in c:\\users\\youne\\anaconda3\\lib\\site-packages (from dtreeviz) (0.20.1)\n",
      "Requirement already satisfied: pandas in c:\\users\\youne\\anaconda3\\lib\\site-packages (from dtreeviz) (2.0.3)\n",
      "Requirement already satisfied: numpy in c:\\users\\youne\\anaconda3\\lib\\site-packages (from dtreeviz) (1.24.3)\n",
      "Requirement already satisfied: scikit-learn in c:\\users\\youne\\anaconda3\\lib\\site-packages (from dtreeviz) (1.3.0)\n",
      "Requirement already satisfied: matplotlib in c:\\users\\youne\\anaconda3\\lib\\site-packages (from dtreeviz) (3.7.2)\n",
      "Requirement already satisfied: colour in c:\\users\\youne\\anaconda3\\lib\\site-packages (from dtreeviz) (0.1.5)\n",
      "Requirement already satisfied: pytest in c:\\users\\youne\\anaconda3\\lib\\site-packages (from dtreeviz) (7.4.0)\n",
      "Requirement already satisfied: contourpy>=1.0.1 in c:\\users\\youne\\anaconda3\\lib\\site-packages (from matplotlib->dtreeviz) (1.0.5)\n",
      "Requirement already satisfied: cycler>=0.10 in c:\\users\\youne\\anaconda3\\lib\\site-packages (from matplotlib->dtreeviz) (0.11.0)\n",
      "Requirement already satisfied: fonttools>=4.22.0 in c:\\users\\youne\\anaconda3\\lib\\site-packages (from matplotlib->dtreeviz) (4.25.0)\n",
      "Requirement already satisfied: kiwisolver>=1.0.1 in c:\\users\\youne\\anaconda3\\lib\\site-packages (from matplotlib->dtreeviz) (1.4.4)\n",
      "Requirement already satisfied: packaging>=20.0 in c:\\users\\youne\\anaconda3\\lib\\site-packages (from matplotlib->dtreeviz) (23.1)\n",
      "Requirement already satisfied: pillow>=6.2.0 in c:\\users\\youne\\anaconda3\\lib\\site-packages (from matplotlib->dtreeviz) (9.4.0)\n",
      "Requirement already satisfied: pyparsing<3.1,>=2.3.1 in c:\\users\\youne\\anaconda3\\lib\\site-packages (from matplotlib->dtreeviz) (3.0.9)\n",
      "Requirement already satisfied: python-dateutil>=2.7 in c:\\users\\youne\\anaconda3\\lib\\site-packages (from matplotlib->dtreeviz) (2.8.2)\n",
      "Requirement already satisfied: pytz>=2020.1 in c:\\users\\youne\\anaconda3\\lib\\site-packages (from pandas->dtreeviz) (2023.3.post1)\n",
      "Requirement already satisfied: tzdata>=2022.1 in c:\\users\\youne\\anaconda3\\lib\\site-packages (from pandas->dtreeviz) (2023.3)\n",
      "Requirement already satisfied: iniconfig in c:\\users\\youne\\anaconda3\\lib\\site-packages (from pytest->dtreeviz) (1.1.1)\n",
      "Requirement already satisfied: pluggy<2.0,>=0.12 in c:\\users\\youne\\anaconda3\\lib\\site-packages (from pytest->dtreeviz) (1.0.0)\n",
      "Requirement already satisfied: colorama in c:\\users\\youne\\anaconda3\\lib\\site-packages (from pytest->dtreeviz) (0.4.6)\n",
      "Requirement already satisfied: scipy>=1.5.0 in c:\\users\\youne\\anaconda3\\lib\\site-packages (from scikit-learn->dtreeviz) (1.11.1)\n",
      "Requirement already satisfied: joblib>=1.1.1 in c:\\users\\youne\\anaconda3\\lib\\site-packages (from scikit-learn->dtreeviz) (1.2.0)\n",
      "Requirement already satisfied: threadpoolctl>=2.0.0 in c:\\users\\youne\\anaconda3\\lib\\site-packages (from scikit-learn->dtreeviz) (2.2.0)\n",
      "Requirement already satisfied: six>=1.5 in c:\\users\\youne\\anaconda3\\lib\\site-packages (from python-dateutil>=2.7->matplotlib->dtreeviz) (1.16.0)\n"
     ]
    },
    {
     "name": "stderr",
     "output_type": "stream",
     "text": [
      "\n",
      "[notice] A new release of pip is available: 23.3.1 -> 23.3.2\n",
      "[notice] To update, run: python.exe -m pip install --upgrade pip\n"
     ]
    }
   ],
   "source": [
    "!pip install dtreeviz\n",
    "\n"
   ]
  },
  {
   "cell_type": "code",
   "execution_count": 39,
   "id": "8a018254",
   "metadata": {
    "collapsed": true
   },
   "outputs": [
    {
     "name": "stdout",
     "output_type": "stream",
     "text": [
      "Requirement already satisfied: pip in c:\\users\\youne\\anaconda3\\lib\\site-packages (23.3.1)Note: you may need to restart the kernel to use updated packages.\n",
      "\n",
      "Collecting pip\n",
      "  Downloading pip-23.3.2-py3-none-any.whl.metadata (3.5 kB)\n",
      "Downloading pip-23.3.2-py3-none-any.whl (2.1 MB)\n",
      "   ---------------------------------------- 0.0/2.1 MB ? eta -:--:--\n",
      "   ---------------------------------------- 0.0/2.1 MB ? eta -:--:--\n",
      "    --------------------------------------- 0.0/2.1 MB 660.6 kB/s eta 0:00:04\n",
      "   - -------------------------------------- 0.1/2.1 MB 656.4 kB/s eta 0:00:04\n",
      "   - -------------------------------------- 0.1/2.1 MB 581.0 kB/s eta 0:00:04\n",
      "   - -------------------------------------- 0.1/2.1 MB 581.0 kB/s eta 0:00:04\n",
      "   - -------------------------------------- 0.1/2.1 MB 581.0 kB/s eta 0:00:04\n",
      "   - -------------------------------------- 0.1/2.1 MB 581.0 kB/s eta 0:00:04\n",
      "   - -------------------------------------- 0.1/2.1 MB 581.0 kB/s eta 0:00:04\n",
      "   ---- ----------------------------------- 0.2/2.1 MB 573.4 kB/s eta 0:00:04\n",
      "   ---- ----------------------------------- 0.2/2.1 MB 602.4 kB/s eta 0:00:04\n",
      "   ----- ---------------------------------- 0.3/2.1 MB 589.5 kB/s eta 0:00:04\n",
      "   ----- ---------------------------------- 0.3/2.1 MB 593.9 kB/s eta 0:00:04\n",
      "   ------ --------------------------------- 0.3/2.1 MB 583.1 kB/s eta 0:00:04\n",
      "   ------ --------------------------------- 0.3/2.1 MB 583.1 kB/s eta 0:00:04\n",
      "   ------ --------------------------------- 0.3/2.1 MB 583.1 kB/s eta 0:00:04\n",
      "   ------ --------------------------------- 0.3/2.1 MB 583.1 kB/s eta 0:00:04\n",
      "   ------- -------------------------------- 0.4/2.1 MB 532.5 kB/s eta 0:00:04\n",
      "   -------- ------------------------------- 0.4/2.1 MB 550.7 kB/s eta 0:00:04\n",
      "   -------- ------------------------------- 0.5/2.1 MB 536.4 kB/s eta 0:00:04\n",
      "   --------- ------------------------------ 0.5/2.1 MB 551.6 kB/s eta 0:00:03\n",
      "   ---------- ----------------------------- 0.5/2.1 MB 557.4 kB/s eta 0:00:03\n",
      "   ----------- ---------------------------- 0.6/2.1 MB 582.8 kB/s eta 0:00:03\n",
      "   ----------- ---------------------------- 0.6/2.1 MB 586.0 kB/s eta 0:00:03\n",
      "   ------------ --------------------------- 0.6/2.1 MB 579.4 kB/s eta 0:00:03\n",
      "   ------------- -------------------------- 0.7/2.1 MB 592.3 kB/s eta 0:00:03\n",
      "   ------------- -------------------------- 0.7/2.1 MB 595.2 kB/s eta 0:00:03\n",
      "   ------------- -------------------------- 0.7/2.1 MB 595.8 kB/s eta 0:00:03\n",
      "   -------------- ------------------------- 0.8/2.1 MB 598.5 kB/s eta 0:00:03\n",
      "   --------------- ------------------------ 0.8/2.1 MB 593.7 kB/s eta 0:00:03\n",
      "   --------------- ------------------------ 0.8/2.1 MB 595.8 kB/s eta 0:00:03\n",
      "   ---------------- ----------------------- 0.9/2.1 MB 597.7 kB/s eta 0:00:03\n",
      "   ---------------- ----------------------- 0.9/2.1 MB 599.5 kB/s eta 0:00:03\n",
      "   ----------------- ---------------------- 0.9/2.1 MB 593.9 kB/s eta 0:00:03\n",
      "   ----------------- ---------------------- 0.9/2.1 MB 596.6 kB/s eta 0:00:02\n",
      "   ------------------ --------------------- 1.0/2.1 MB 591.0 kB/s eta 0:00:02\n",
      "   ------------------ --------------------- 1.0/2.1 MB 586.6 kB/s eta 0:00:02\n",
      "   ------------------ --------------------- 1.0/2.1 MB 581.8 kB/s eta 0:00:02\n",
      "   ------------------- -------------------- 1.0/2.1 MB 574.0 kB/s eta 0:00:02\n",
      "   ------------------- -------------------- 1.0/2.1 MB 569.8 kB/s eta 0:00:02\n",
      "   -------------------- ------------------- 1.1/2.1 MB 571.4 kB/s eta 0:00:02\n",
      "   -------------------- ------------------- 1.1/2.1 MB 568.6 kB/s eta 0:00:02\n",
      "   --------------------- ------------------ 1.1/2.1 MB 570.9 kB/s eta 0:00:02\n",
      "   --------------------- ------------------ 1.1/2.1 MB 572.1 kB/s eta 0:00:02\n",
      "   ---------------------- ----------------- 1.2/2.1 MB 569.7 kB/s eta 0:00:02\n",
      "   ---------------------- ----------------- 1.2/2.1 MB 571.6 kB/s eta 0:00:02\n",
      "   ----------------------- ---------------- 1.2/2.1 MB 569.2 kB/s eta 0:00:02\n",
      "   ----------------------- ---------------- 1.2/2.1 MB 570.5 kB/s eta 0:00:02\n",
      "   ------------------------ --------------- 1.3/2.1 MB 572.2 kB/s eta 0:00:02\n",
      "   ------------------------ --------------- 1.3/2.1 MB 570.1 kB/s eta 0:00:02\n",
      "   ------------------------- -------------- 1.3/2.1 MB 571.3 kB/s eta 0:00:02\n",
      "   ------------------------- -------------- 1.4/2.1 MB 569.1 kB/s eta 0:00:02\n",
      "   -------------------------- ------------- 1.4/2.1 MB 570.8 kB/s eta 0:00:02\n",
      "   -------------------------- ------------- 1.4/2.1 MB 571.9 kB/s eta 0:00:02\n",
      "   --------------------------- ------------ 1.4/2.1 MB 569.8 kB/s eta 0:00:02\n",
      "   --------------------------- ------------ 1.5/2.1 MB 570.9 kB/s eta 0:00:02\n",
      "   ---------------------------- ----------- 1.5/2.1 MB 569.1 kB/s eta 0:00:02\n",
      "   ---------------------------- ----------- 1.5/2.1 MB 566.1 kB/s eta 0:00:02\n",
      "   ----------------------------- ---------- 1.5/2.1 MB 564.9 kB/s eta 0:00:01\n",
      "   ----------------------------- ---------- 1.6/2.1 MB 569.7 kB/s eta 0:00:01\n",
      "   ------------------------------ --------- 1.6/2.1 MB 567.0 kB/s eta 0:00:01\n",
      "   ------------------------------ --------- 1.6/2.1 MB 568.9 kB/s eta 0:00:01\n",
      "   ------------------------------- -------- 1.7/2.1 MB 567.3 kB/s eta 0:00:01\n",
      "   ------------------------------- -------- 1.7/2.1 MB 567.3 kB/s eta 0:00:01\n",
      "   -------------------------------- ------- 1.7/2.1 MB 570.0 kB/s eta 0:00:01\n",
      "   -------------------------------- ------- 1.7/2.1 MB 567.6 kB/s eta 0:00:01\n",
      "   --------------------------------- ------ 1.8/2.1 MB 569.3 kB/s eta 0:00:01\n",
      "   ---------------------------------- ----- 1.8/2.1 MB 570.5 kB/s eta 0:00:01\n",
      "   ---------------------------------- ----- 1.8/2.1 MB 568.2 kB/s eta 0:00:01\n",
      "   ----------------------------------- ---- 1.9/2.1 MB 569.9 kB/s eta 0:00:01\n",
      "   ----------------------------------- ---- 1.9/2.1 MB 570.3 kB/s eta 0:00:01\n",
      "   ------------------------------------ --- 1.9/2.1 MB 569.6 kB/s eta 0:00:01\n",
      "   ------------------------------------ --- 1.9/2.1 MB 573.1 kB/s eta 0:00:01\n",
      "   ------------------------------------- -- 2.0/2.1 MB 571.2 kB/s eta 0:00:01\n",
      "   ------------------------------------- -- 2.0/2.1 MB 569.7 kB/s eta 0:00:01\n",
      "   -------------------------------------- - 2.0/2.1 MB 571.3 kB/s eta 0:00:01\n",
      "   ---------------------------------------  2.1/2.1 MB 572.4 kB/s eta 0:00:01\n",
      "   ---------------------------------------  2.1/2.1 MB 570.3 kB/s eta 0:00:01\n",
      "   ---------------------------------------  2.1/2.1 MB 568.9 kB/s eta 0:00:01\n",
      "   ---------------------------------------- 2.1/2.1 MB 569.3 kB/s eta 0:00:00\n",
      "Installing collected packages: pip\n",
      "  Attempting uninstall: pip\n",
      "    Found existing installation: pip 23.3.1\n",
      "    Uninstalling pip-23.3.1:\n",
      "      Successfully uninstalled pip-23.3.1\n",
      "Successfully installed pip-23.3.2\n"
     ]
    }
   ],
   "source": [
    "pip install --upgrade pip\n"
   ]
  },
  {
   "cell_type": "code",
   "execution_count": 52,
   "id": "80574e2c",
   "metadata": {},
   "outputs": [
    {
     "ename": "ImportError",
     "evalue": "cannot import name 'dtreeviz' from 'dtreeviz.trees' (C:\\Users\\youne\\anaconda3\\Lib\\site-packages\\dtreeviz\\trees.py)",
     "output_type": "error",
     "traceback": [
      "\u001b[1;31m---------------------------------------------------------------------------\u001b[0m",
      "\u001b[1;31mImportError\u001b[0m                               Traceback (most recent call last)",
      "Cell \u001b[1;32mIn[52], line 1\u001b[0m\n\u001b[1;32m----> 1\u001b[0m \u001b[38;5;28;01mfrom\u001b[39;00m \u001b[38;5;21;01mdtreeviz\u001b[39;00m\u001b[38;5;21;01m.\u001b[39;00m\u001b[38;5;21;01mtrees\u001b[39;00m \u001b[38;5;28;01mimport\u001b[39;00m dtreeviz\n\u001b[0;32m      3\u001b[0m \u001b[38;5;66;03m# your code here\u001b[39;00m\n\u001b[0;32m      4\u001b[0m viz \u001b[38;5;241m=\u001b[39m dtreeviz(dt, imputes, target, target_name\u001b[38;5;241m=\u001b[39m\u001b[38;5;124m\"\u001b[39m\u001b[38;5;124mtarget\u001b[39m\u001b[38;5;124m\"\u001b[39m)\n",
      "\u001b[1;31mImportError\u001b[0m: cannot import name 'dtreeviz' from 'dtreeviz.trees' (C:\\Users\\youne\\anaconda3\\Lib\\site-packages\\dtreeviz\\trees.py)"
     ]
    }
   ],
   "source": [
    "from dtreeviz.trees import dtreeviz\n",
    "\n",
    "# your code here\n",
    "viz = dtreeviz(dt, imputes, target, target_name=\"target\")\n",
    "viz.view()\n"
   ]
  }
 ],
 "metadata": {
  "kernelspec": {
   "display_name": "Python 3 (ipykernel)",
   "language": "python",
   "name": "python3"
  },
  "language_info": {
   "codemirror_mode": {
    "name": "ipython",
    "version": 3
   },
   "file_extension": ".py",
   "mimetype": "text/x-python",
   "name": "python",
   "nbconvert_exporter": "python",
   "pygments_lexer": "ipython3",
   "version": "3.11.5"
  }
 },
 "nbformat": 4,
 "nbformat_minor": 5
}
